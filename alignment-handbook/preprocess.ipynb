{
 "cells": [
  {
   "cell_type": "code",
   "execution_count": 7,
   "metadata": {},
   "outputs": [
    {
     "name": "stdout",
     "output_type": "stream",
     "text": [
      "env: CUDA_VISIBLE_DEVICES=4,5,6,7\n",
      "env: N_GPU=4\n"
     ]
    }
   ],
   "source": [
    "%env CUDA_VISIBLE_DEVICES=4,5,6,7\n",
    "%env N_GPU=4"
   ]
  },
  {
   "cell_type": "code",
   "execution_count": 8,
   "metadata": {},
   "outputs": [
    {
     "name": "stderr",
     "output_type": "stream",
     "text": [
      "/home/chanwoong/.conda/envs/handbook/lib/python3.10/site-packages/tqdm/auto.py:21: TqdmWarning: IProgress not found. Please update jupyter and ipywidgets. See https://ipywidgets.readthedocs.io/en/stable/user_install.html\n",
      "  from .autonotebook import tqdm as notebook_tqdm\n"
     ]
    }
   ],
   "source": [
    "import os\n",
    "import json\n",
    "import csv\n",
    "import torch\n",
    "from tqdm import tqdm\n",
    "import random\n",
    "import copy\n",
    "import wandb\n",
    "\n",
    "from api_config import CONFIG\n",
    "\n",
    "try: import google.colab; root_path = 'dsp'\n",
    "except: root_path = '.'\n",
    "import dsp\n",
    "\n",
    "## wandb setup\n",
    "os.environ[\"WANDB_API_KEY\"]=CONFIG['wandb_api_key']\n",
    "os.environ[\"WANDB_WATCH\"]='false'\n",
    "os.environ[\"WANDB_START_METHOD\"]='thread'\n",
    "os.environ[\"WANDB_USER_EMAIL\"]=CONFIG['wandb_user_email']\n",
    "os.environ[\"WANDB_USERNAME\"]=CONFIG['wandb_username']"
   ]
  },
  {
   "cell_type": "code",
   "execution_count": null,
   "metadata": {},
   "outputs": [],
   "source": [
    "def get_document_list(ins, ctxs_key='ctxs', n_docs=100):\n",
    "    docs = ins[ctxs_key]\n",
    "\n",
    "    document_list = []\n",
    "    for i in range(n_docs):\n",
    "        if ctxs_key == 'context':\n",
    "            title = docs[i][0]\n",
    "            text = docs[i][1]\n",
    "        else:\n",
    "            title = docs[i]['title']\n",
    "            text = docs[i]['text']    \n",
    "        \n",
    "        document_list.append(docs[i])\n",
    "\n",
    "    return document_list\n",
    "\n",
    "def chunk_document_list(document_list, segment_size=5):\n",
    "    assert len(document_list) % segment_size == 0\n",
    "\n",
    "    chunked_list = []\n",
    "    for i in range(0, len(document_list), segment_size):\n",
    "        chunked_list.append(document_list[i:i + segment_size])\n",
    "    \n",
    "    return chunked_list\n",
    "\n",
    "\n",
    "def create_prompt(example, iteration, document_input, prev_input):\n",
    "\n",
    "    instruction=\"Follow instructions below\\n1. Generate a summary of reference sentence and chosen sentences (prefix: Summary). Ensure the summary is under 200 words and does not include any pronouns. DO NOT make assumptions or attempt to answer the question; your job is to summarize only.\\n2. Evaluate the summary based solely on the information of it, without any additional background context: if it lacks sufficient details to answer the question, print '[INCOMPLETE]'. If it provides all necessary details, print '[COMPLETE]'. You should provide the reason of evalution (prefix: Evaluation)\\nSummary:\"\n",
    "    \n",
    "    prompt = f\"Source documents: {document_input}\\n\\nReference sentence: {prev_input}\\n\\nQuestion: {example['question']}\\n\\n{instruction}\"\n",
    "    \n",
    "    return prompt"
   ]
  },
  {
   "cell_type": "code",
   "execution_count": 12,
   "metadata": {},
   "outputs": [],
   "source": [
    "retrieval_results = []\n",
    "with open('/ssd0/chanwoong/alignment-handbook/comp/data/retrieval/train_10000.json', 'r') as f:\n",
    "    for line in f.readlines():\n",
    "        retrieval_results.append(json.loads(line))\n",
    "\n",
    "results = json.load(open('/ssd0/chanwoong/alignment-handbook/comp/data/generate/results_7500.json'))"
   ]
  },
  {
   "cell_type": "code",
   "execution_count": null,
   "metadata": {},
   "outputs": [],
   "source": [
    "n_docs = 30\n",
    "segment_size = 5\n",
    "\n",
    "for result, retrieval in tqdm(zip(results, retrieval_results)):\n",
    "    question = result['question']\n",
    "    answer = result['answer']\n",
    "\n",
    "    document_list = get_document_list(retrieval, n_docs=n_docs)\n",
    "    chunk_list = chunk_document_list(document_list, segment_size=5)\n",
    "    \n",
    "    assert len(chunk_list) == len(result['iterations'])\n",
    "\n",
    "    for idx, (iteration, chunk) in enumerate(zip(result['iterations'], chunk_list)):\n",
    "        document_input = \"\\n\".join(chunk_list)\n",
    "\n",
    "        if idx == 0:\n",
    "            prev_input = \"\"\n",
    "        else:\n",
    "            prev_input = result\n",
    "\n",
    "\n",
    "        prompt = create_prompt(result, iteration, document_input, prev_input)\n",
    "        \n",
    "        "
   ]
  }
 ],
 "metadata": {
  "kernelspec": {
   "display_name": "handbook",
   "language": "python",
   "name": "python3"
  },
  "language_info": {
   "codemirror_mode": {
    "name": "ipython",
    "version": 3
   },
   "file_extension": ".py",
   "mimetype": "text/x-python",
   "name": "python",
   "nbconvert_exporter": "python",
   "pygments_lexer": "ipython3",
   "version": "3.10.14"
  }
 },
 "nbformat": 4,
 "nbformat_minor": 2
}
